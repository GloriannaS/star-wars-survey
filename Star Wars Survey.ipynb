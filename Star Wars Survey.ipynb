{
 "cells": [
  {
   "cell_type": "markdown",
   "metadata": {
    "collapsed": true,
    "jupyter": {
     "outputs_hidden": true
    }
   },
   "source": [
    "# Star Wars Survey\n",
    "\n",
    "Most people know of, or at least have heard of the great franchise known as the Star Wars series. Possibly one of the largest franchises of all time, Star Wars continues to enthrall its fans today. As the franchise continued to grow, debates began, and continue to arise over what part of the franchise is the best. Which film in the series was the franchise’s “Golden Age”? Is it the older films? Or is the franchise continually improving as it releases new material? As the release date for [Star Wars: The Force Awakens](https://en.wikipedia.org/wiki/Star_Wars:_The_Force_Awakens) approached, the team at [FiveThirtyEight](https://fivethirtyeight.com/features/americas-favorite-star-wars-movies-and-least-favorite-characters/) became curious about exploring various questions related to Star Wars fans. Using the SurveyMonkey online tool, they collected data from over 800 respondents. Ultimately, they compiled a large dataset containing the results of the survey.\n",
    "\n",
    "In this short project, we will work with the `star_wars.csv` data set. It will be a short cleaning project, ending with a brief initial analysis. Our goal is to demonstrate data cleaning techniques with data acquired through crowd questioning, which is often quite dirtied and disorganized. Some techniques and tools that we will use are the `pandas.DataFrame.rename()` and `pandas.DataFrame.astype()` methods and bar graphs with the `%matplotlib inline`.\n",
    "\n",
    "To begin, let's import our libraries and read into our data. We will also do a bit of exploring using the `.head()` function and `.columns` attribute.\n",
    "\n",
    "### Importing and Exploring Our Data"
   ]
  },
  {
   "cell_type": "code",
   "execution_count": 123,
   "metadata": {},
   "outputs": [],
   "source": [
    "import pandas as pd\n",
    "import numpy as np\n",
    "\n",
    "star_wars = pd.read_csv(\"star_wars.csv\", encoding=\"ISO-8859-1\")"
   ]
  },
  {
   "cell_type": "code",
   "execution_count": 124,
   "metadata": {},
   "outputs": [
    {
     "data": {
      "text/html": [
       "<div>\n",
       "<style scoped>\n",
       "    .dataframe tbody tr th:only-of-type {\n",
       "        vertical-align: middle;\n",
       "    }\n",
       "\n",
       "    .dataframe tbody tr th {\n",
       "        vertical-align: top;\n",
       "    }\n",
       "\n",
       "    .dataframe thead th {\n",
       "        text-align: right;\n",
       "    }\n",
       "</style>\n",
       "<table border=\"1\" class=\"dataframe\">\n",
       "  <thead>\n",
       "    <tr style=\"text-align: right;\">\n",
       "      <th></th>\n",
       "      <th>RespondentID</th>\n",
       "      <th>Have you seen any of the 6 films in the Star Wars franchise?</th>\n",
       "      <th>Do you consider yourself to be a fan of the Star Wars film franchise?</th>\n",
       "      <th>Which of the following Star Wars films have you seen? Please select all that apply.</th>\n",
       "      <th>Unnamed: 4</th>\n",
       "      <th>Unnamed: 5</th>\n",
       "      <th>Unnamed: 6</th>\n",
       "      <th>Unnamed: 7</th>\n",
       "      <th>Unnamed: 8</th>\n",
       "      <th>Please rank the Star Wars films in order of preference with 1 being your favorite film in the franchise and 6 being your least favorite film.</th>\n",
       "      <th>...</th>\n",
       "      <th>Unnamed: 28</th>\n",
       "      <th>Which character shot first?</th>\n",
       "      <th>Are you familiar with the Expanded Universe?</th>\n",
       "      <th>Do you consider yourself to be a fan of the Expanded Universe?</th>\n",
       "      <th>Do you consider yourself to be a fan of the Star Trek franchise?</th>\n",
       "      <th>Gender</th>\n",
       "      <th>Age</th>\n",
       "      <th>Household Income</th>\n",
       "      <th>Education</th>\n",
       "      <th>Location (Census Region)</th>\n",
       "    </tr>\n",
       "  </thead>\n",
       "  <tbody>\n",
       "    <tr>\n",
       "      <th>0</th>\n",
       "      <td>3292879998</td>\n",
       "      <td>Yes</td>\n",
       "      <td>Yes</td>\n",
       "      <td>Star Wars: Episode I  The Phantom Menace</td>\n",
       "      <td>Star Wars: Episode II  Attack of the Clones</td>\n",
       "      <td>Star Wars: Episode III  Revenge of the Sith</td>\n",
       "      <td>Star Wars: Episode IV  A New Hope</td>\n",
       "      <td>Star Wars: Episode V The Empire Strikes Back</td>\n",
       "      <td>Star Wars: Episode VI Return of the Jedi</td>\n",
       "      <td>3.0</td>\n",
       "      <td>...</td>\n",
       "      <td>Very favorably</td>\n",
       "      <td>I don't understand this question</td>\n",
       "      <td>Yes</td>\n",
       "      <td>No</td>\n",
       "      <td>No</td>\n",
       "      <td>Male</td>\n",
       "      <td>18-29</td>\n",
       "      <td>NaN</td>\n",
       "      <td>High school degree</td>\n",
       "      <td>South Atlantic</td>\n",
       "    </tr>\n",
       "    <tr>\n",
       "      <th>1</th>\n",
       "      <td>3292879538</td>\n",
       "      <td>No</td>\n",
       "      <td>NaN</td>\n",
       "      <td>NaN</td>\n",
       "      <td>NaN</td>\n",
       "      <td>NaN</td>\n",
       "      <td>NaN</td>\n",
       "      <td>NaN</td>\n",
       "      <td>NaN</td>\n",
       "      <td>NaN</td>\n",
       "      <td>...</td>\n",
       "      <td>NaN</td>\n",
       "      <td>NaN</td>\n",
       "      <td>NaN</td>\n",
       "      <td>NaN</td>\n",
       "      <td>Yes</td>\n",
       "      <td>Male</td>\n",
       "      <td>18-29</td>\n",
       "      <td>$0 - $24,999</td>\n",
       "      <td>Bachelor degree</td>\n",
       "      <td>West South Central</td>\n",
       "    </tr>\n",
       "    <tr>\n",
       "      <th>2</th>\n",
       "      <td>3292765271</td>\n",
       "      <td>Yes</td>\n",
       "      <td>No</td>\n",
       "      <td>Star Wars: Episode I  The Phantom Menace</td>\n",
       "      <td>Star Wars: Episode II  Attack of the Clones</td>\n",
       "      <td>Star Wars: Episode III  Revenge of the Sith</td>\n",
       "      <td>NaN</td>\n",
       "      <td>NaN</td>\n",
       "      <td>NaN</td>\n",
       "      <td>1.0</td>\n",
       "      <td>...</td>\n",
       "      <td>Unfamiliar (N/A)</td>\n",
       "      <td>I don't understand this question</td>\n",
       "      <td>No</td>\n",
       "      <td>NaN</td>\n",
       "      <td>No</td>\n",
       "      <td>Male</td>\n",
       "      <td>18-29</td>\n",
       "      <td>$0 - $24,999</td>\n",
       "      <td>High school degree</td>\n",
       "      <td>West North Central</td>\n",
       "    </tr>\n",
       "    <tr>\n",
       "      <th>3</th>\n",
       "      <td>3292763116</td>\n",
       "      <td>Yes</td>\n",
       "      <td>Yes</td>\n",
       "      <td>Star Wars: Episode I  The Phantom Menace</td>\n",
       "      <td>Star Wars: Episode II  Attack of the Clones</td>\n",
       "      <td>Star Wars: Episode III  Revenge of the Sith</td>\n",
       "      <td>Star Wars: Episode IV  A New Hope</td>\n",
       "      <td>Star Wars: Episode V The Empire Strikes Back</td>\n",
       "      <td>Star Wars: Episode VI Return of the Jedi</td>\n",
       "      <td>5.0</td>\n",
       "      <td>...</td>\n",
       "      <td>Very favorably</td>\n",
       "      <td>I don't understand this question</td>\n",
       "      <td>No</td>\n",
       "      <td>NaN</td>\n",
       "      <td>Yes</td>\n",
       "      <td>Male</td>\n",
       "      <td>18-29</td>\n",
       "      <td>$100,000 - $149,999</td>\n",
       "      <td>Some college or Associate degree</td>\n",
       "      <td>West North Central</td>\n",
       "    </tr>\n",
       "    <tr>\n",
       "      <th>4</th>\n",
       "      <td>3292731220</td>\n",
       "      <td>Yes</td>\n",
       "      <td>Yes</td>\n",
       "      <td>Star Wars: Episode I  The Phantom Menace</td>\n",
       "      <td>Star Wars: Episode II  Attack of the Clones</td>\n",
       "      <td>Star Wars: Episode III  Revenge of the Sith</td>\n",
       "      <td>Star Wars: Episode IV  A New Hope</td>\n",
       "      <td>Star Wars: Episode V The Empire Strikes Back</td>\n",
       "      <td>Star Wars: Episode VI Return of the Jedi</td>\n",
       "      <td>5.0</td>\n",
       "      <td>...</td>\n",
       "      <td>Somewhat favorably</td>\n",
       "      <td>Greedo</td>\n",
       "      <td>Yes</td>\n",
       "      <td>No</td>\n",
       "      <td>No</td>\n",
       "      <td>Male</td>\n",
       "      <td>18-29</td>\n",
       "      <td>$100,000 - $149,999</td>\n",
       "      <td>Some college or Associate degree</td>\n",
       "      <td>West North Central</td>\n",
       "    </tr>\n",
       "    <tr>\n",
       "      <th>5</th>\n",
       "      <td>3292719380</td>\n",
       "      <td>Yes</td>\n",
       "      <td>Yes</td>\n",
       "      <td>Star Wars: Episode I  The Phantom Menace</td>\n",
       "      <td>Star Wars: Episode II  Attack of the Clones</td>\n",
       "      <td>Star Wars: Episode III  Revenge of the Sith</td>\n",
       "      <td>Star Wars: Episode IV  A New Hope</td>\n",
       "      <td>Star Wars: Episode V The Empire Strikes Back</td>\n",
       "      <td>Star Wars: Episode VI Return of the Jedi</td>\n",
       "      <td>1.0</td>\n",
       "      <td>...</td>\n",
       "      <td>Very favorably</td>\n",
       "      <td>Han</td>\n",
       "      <td>Yes</td>\n",
       "      <td>No</td>\n",
       "      <td>Yes</td>\n",
       "      <td>Male</td>\n",
       "      <td>18-29</td>\n",
       "      <td>$25,000 - $49,999</td>\n",
       "      <td>Bachelor degree</td>\n",
       "      <td>Middle Atlantic</td>\n",
       "    </tr>\n",
       "    <tr>\n",
       "      <th>6</th>\n",
       "      <td>3292684787</td>\n",
       "      <td>Yes</td>\n",
       "      <td>Yes</td>\n",
       "      <td>Star Wars: Episode I  The Phantom Menace</td>\n",
       "      <td>Star Wars: Episode II  Attack of the Clones</td>\n",
       "      <td>Star Wars: Episode III  Revenge of the Sith</td>\n",
       "      <td>Star Wars: Episode IV  A New Hope</td>\n",
       "      <td>Star Wars: Episode V The Empire Strikes Back</td>\n",
       "      <td>Star Wars: Episode VI Return of the Jedi</td>\n",
       "      <td>6.0</td>\n",
       "      <td>...</td>\n",
       "      <td>Very favorably</td>\n",
       "      <td>Han</td>\n",
       "      <td>Yes</td>\n",
       "      <td>No</td>\n",
       "      <td>No</td>\n",
       "      <td>Male</td>\n",
       "      <td>18-29</td>\n",
       "      <td>NaN</td>\n",
       "      <td>High school degree</td>\n",
       "      <td>East North Central</td>\n",
       "    </tr>\n",
       "    <tr>\n",
       "      <th>7</th>\n",
       "      <td>3292663732</td>\n",
       "      <td>Yes</td>\n",
       "      <td>Yes</td>\n",
       "      <td>Star Wars: Episode I  The Phantom Menace</td>\n",
       "      <td>Star Wars: Episode II  Attack of the Clones</td>\n",
       "      <td>Star Wars: Episode III  Revenge of the Sith</td>\n",
       "      <td>Star Wars: Episode IV  A New Hope</td>\n",
       "      <td>Star Wars: Episode V The Empire Strikes Back</td>\n",
       "      <td>Star Wars: Episode VI Return of the Jedi</td>\n",
       "      <td>4.0</td>\n",
       "      <td>...</td>\n",
       "      <td>Very favorably</td>\n",
       "      <td>Han</td>\n",
       "      <td>No</td>\n",
       "      <td>NaN</td>\n",
       "      <td>Yes</td>\n",
       "      <td>Male</td>\n",
       "      <td>18-29</td>\n",
       "      <td>NaN</td>\n",
       "      <td>High school degree</td>\n",
       "      <td>South Atlantic</td>\n",
       "    </tr>\n",
       "    <tr>\n",
       "      <th>8</th>\n",
       "      <td>3292654043</td>\n",
       "      <td>Yes</td>\n",
       "      <td>Yes</td>\n",
       "      <td>Star Wars: Episode I  The Phantom Menace</td>\n",
       "      <td>Star Wars: Episode II  Attack of the Clones</td>\n",
       "      <td>Star Wars: Episode III  Revenge of the Sith</td>\n",
       "      <td>Star Wars: Episode IV  A New Hope</td>\n",
       "      <td>Star Wars: Episode V The Empire Strikes Back</td>\n",
       "      <td>Star Wars: Episode VI Return of the Jedi</td>\n",
       "      <td>5.0</td>\n",
       "      <td>...</td>\n",
       "      <td>Somewhat favorably</td>\n",
       "      <td>Han</td>\n",
       "      <td>No</td>\n",
       "      <td>NaN</td>\n",
       "      <td>No</td>\n",
       "      <td>Male</td>\n",
       "      <td>18-29</td>\n",
       "      <td>$0 - $24,999</td>\n",
       "      <td>Some college or Associate degree</td>\n",
       "      <td>South Atlantic</td>\n",
       "    </tr>\n",
       "    <tr>\n",
       "      <th>9</th>\n",
       "      <td>3292640424</td>\n",
       "      <td>Yes</td>\n",
       "      <td>No</td>\n",
       "      <td>NaN</td>\n",
       "      <td>Star Wars: Episode II  Attack of the Clones</td>\n",
       "      <td>NaN</td>\n",
       "      <td>NaN</td>\n",
       "      <td>NaN</td>\n",
       "      <td>NaN</td>\n",
       "      <td>1.0</td>\n",
       "      <td>...</td>\n",
       "      <td>Very favorably</td>\n",
       "      <td>I don't understand this question</td>\n",
       "      <td>No</td>\n",
       "      <td>NaN</td>\n",
       "      <td>No</td>\n",
       "      <td>Male</td>\n",
       "      <td>18-29</td>\n",
       "      <td>$25,000 - $49,999</td>\n",
       "      <td>Some college or Associate degree</td>\n",
       "      <td>Pacific</td>\n",
       "    </tr>\n",
       "  </tbody>\n",
       "</table>\n",
       "<p>10 rows × 38 columns</p>\n",
       "</div>"
      ],
      "text/plain": [
       "   RespondentID Have you seen any of the 6 films in the Star Wars franchise?  \\\n",
       "0    3292879998                                                Yes             \n",
       "1    3292879538                                                 No             \n",
       "2    3292765271                                                Yes             \n",
       "3    3292763116                                                Yes             \n",
       "4    3292731220                                                Yes             \n",
       "5    3292719380                                                Yes             \n",
       "6    3292684787                                                Yes             \n",
       "7    3292663732                                                Yes             \n",
       "8    3292654043                                                Yes             \n",
       "9    3292640424                                                Yes             \n",
       "\n",
       "  Do you consider yourself to be a fan of the Star Wars film franchise?  \\\n",
       "0                                                Yes                      \n",
       "1                                                NaN                      \n",
       "2                                                 No                      \n",
       "3                                                Yes                      \n",
       "4                                                Yes                      \n",
       "5                                                Yes                      \n",
       "6                                                Yes                      \n",
       "7                                                Yes                      \n",
       "8                                                Yes                      \n",
       "9                                                 No                      \n",
       "\n",
       "  Which of the following Star Wars films have you seen? Please select all that apply.  \\\n",
       "0           Star Wars: Episode I  The Phantom Menace                                    \n",
       "1                                                NaN                                    \n",
       "2           Star Wars: Episode I  The Phantom Menace                                    \n",
       "3           Star Wars: Episode I  The Phantom Menace                                    \n",
       "4           Star Wars: Episode I  The Phantom Menace                                    \n",
       "5           Star Wars: Episode I  The Phantom Menace                                    \n",
       "6           Star Wars: Episode I  The Phantom Menace                                    \n",
       "7           Star Wars: Episode I  The Phantom Menace                                    \n",
       "8           Star Wars: Episode I  The Phantom Menace                                    \n",
       "9                                                NaN                                    \n",
       "\n",
       "                                    Unnamed: 4  \\\n",
       "0  Star Wars: Episode II  Attack of the Clones   \n",
       "1                                          NaN   \n",
       "2  Star Wars: Episode II  Attack of the Clones   \n",
       "3  Star Wars: Episode II  Attack of the Clones   \n",
       "4  Star Wars: Episode II  Attack of the Clones   \n",
       "5  Star Wars: Episode II  Attack of the Clones   \n",
       "6  Star Wars: Episode II  Attack of the Clones   \n",
       "7  Star Wars: Episode II  Attack of the Clones   \n",
       "8  Star Wars: Episode II  Attack of the Clones   \n",
       "9  Star Wars: Episode II  Attack of the Clones   \n",
       "\n",
       "                                    Unnamed: 5  \\\n",
       "0  Star Wars: Episode III  Revenge of the Sith   \n",
       "1                                          NaN   \n",
       "2  Star Wars: Episode III  Revenge of the Sith   \n",
       "3  Star Wars: Episode III  Revenge of the Sith   \n",
       "4  Star Wars: Episode III  Revenge of the Sith   \n",
       "5  Star Wars: Episode III  Revenge of the Sith   \n",
       "6  Star Wars: Episode III  Revenge of the Sith   \n",
       "7  Star Wars: Episode III  Revenge of the Sith   \n",
       "8  Star Wars: Episode III  Revenge of the Sith   \n",
       "9                                          NaN   \n",
       "\n",
       "                          Unnamed: 6  \\\n",
       "0  Star Wars: Episode IV  A New Hope   \n",
       "1                                NaN   \n",
       "2                                NaN   \n",
       "3  Star Wars: Episode IV  A New Hope   \n",
       "4  Star Wars: Episode IV  A New Hope   \n",
       "5  Star Wars: Episode IV  A New Hope   \n",
       "6  Star Wars: Episode IV  A New Hope   \n",
       "7  Star Wars: Episode IV  A New Hope   \n",
       "8  Star Wars: Episode IV  A New Hope   \n",
       "9                                NaN   \n",
       "\n",
       "                                     Unnamed: 7  \\\n",
       "0  Star Wars: Episode V The Empire Strikes Back   \n",
       "1                                           NaN   \n",
       "2                                           NaN   \n",
       "3  Star Wars: Episode V The Empire Strikes Back   \n",
       "4  Star Wars: Episode V The Empire Strikes Back   \n",
       "5  Star Wars: Episode V The Empire Strikes Back   \n",
       "6  Star Wars: Episode V The Empire Strikes Back   \n",
       "7  Star Wars: Episode V The Empire Strikes Back   \n",
       "8  Star Wars: Episode V The Empire Strikes Back   \n",
       "9                                           NaN   \n",
       "\n",
       "                                 Unnamed: 8  \\\n",
       "0  Star Wars: Episode VI Return of the Jedi   \n",
       "1                                       NaN   \n",
       "2                                       NaN   \n",
       "3  Star Wars: Episode VI Return of the Jedi   \n",
       "4  Star Wars: Episode VI Return of the Jedi   \n",
       "5  Star Wars: Episode VI Return of the Jedi   \n",
       "6  Star Wars: Episode VI Return of the Jedi   \n",
       "7  Star Wars: Episode VI Return of the Jedi   \n",
       "8  Star Wars: Episode VI Return of the Jedi   \n",
       "9                                       NaN   \n",
       "\n",
       "   Please rank the Star Wars films in order of preference with 1 being your favorite film in the franchise and 6 being your least favorite film.  \\\n",
       "0                                                3.0                                                                                               \n",
       "1                                                NaN                                                                                               \n",
       "2                                                1.0                                                                                               \n",
       "3                                                5.0                                                                                               \n",
       "4                                                5.0                                                                                               \n",
       "5                                                1.0                                                                                               \n",
       "6                                                6.0                                                                                               \n",
       "7                                                4.0                                                                                               \n",
       "8                                                5.0                                                                                               \n",
       "9                                                1.0                                                                                               \n",
       "\n",
       "   ...         Unnamed: 28       Which character shot first?  \\\n",
       "0  ...      Very favorably  I don't understand this question   \n",
       "1  ...                 NaN                               NaN   \n",
       "2  ...    Unfamiliar (N/A)  I don't understand this question   \n",
       "3  ...      Very favorably  I don't understand this question   \n",
       "4  ...  Somewhat favorably                            Greedo   \n",
       "5  ...      Very favorably                               Han   \n",
       "6  ...      Very favorably                               Han   \n",
       "7  ...      Very favorably                               Han   \n",
       "8  ...  Somewhat favorably                               Han   \n",
       "9  ...      Very favorably  I don't understand this question   \n",
       "\n",
       "   Are you familiar with the Expanded Universe?  \\\n",
       "0                                           Yes   \n",
       "1                                           NaN   \n",
       "2                                            No   \n",
       "3                                            No   \n",
       "4                                           Yes   \n",
       "5                                           Yes   \n",
       "6                                           Yes   \n",
       "7                                            No   \n",
       "8                                            No   \n",
       "9                                            No   \n",
       "\n",
       "   Do you consider yourself to be a fan of the Expanded Universe?  \\\n",
       "0                                                 No                \n",
       "1                                                NaN                \n",
       "2                                                NaN                \n",
       "3                                                NaN                \n",
       "4                                                 No                \n",
       "5                                                 No                \n",
       "6                                                 No                \n",
       "7                                                NaN                \n",
       "8                                                NaN                \n",
       "9                                                NaN                \n",
       "\n",
       "   Do you consider yourself to be a fan of the Star Trek franchise? Gender  \\\n",
       "0                                                 No                  Male   \n",
       "1                                                Yes                  Male   \n",
       "2                                                 No                  Male   \n",
       "3                                                Yes                  Male   \n",
       "4                                                 No                  Male   \n",
       "5                                                Yes                  Male   \n",
       "6                                                 No                  Male   \n",
       "7                                                Yes                  Male   \n",
       "8                                                 No                  Male   \n",
       "9                                                 No                  Male   \n",
       "\n",
       "     Age     Household Income                         Education  \\\n",
       "0  18-29                  NaN                High school degree   \n",
       "1  18-29         $0 - $24,999                   Bachelor degree   \n",
       "2  18-29         $0 - $24,999                High school degree   \n",
       "3  18-29  $100,000 - $149,999  Some college or Associate degree   \n",
       "4  18-29  $100,000 - $149,999  Some college or Associate degree   \n",
       "5  18-29    $25,000 - $49,999                   Bachelor degree   \n",
       "6  18-29                  NaN                High school degree   \n",
       "7  18-29                  NaN                High school degree   \n",
       "8  18-29         $0 - $24,999  Some college or Associate degree   \n",
       "9  18-29    $25,000 - $49,999  Some college or Associate degree   \n",
       "\n",
       "  Location (Census Region)  \n",
       "0           South Atlantic  \n",
       "1       West South Central  \n",
       "2       West North Central  \n",
       "3       West North Central  \n",
       "4       West North Central  \n",
       "5          Middle Atlantic  \n",
       "6       East North Central  \n",
       "7           South Atlantic  \n",
       "8           South Atlantic  \n",
       "9                  Pacific  \n",
       "\n",
       "[10 rows x 38 columns]"
      ]
     },
     "execution_count": 124,
     "metadata": {},
     "output_type": "execute_result"
    }
   ],
   "source": [
    "star_wars.head(10)"
   ]
  },
  {
   "cell_type": "code",
   "execution_count": 125,
   "metadata": {},
   "outputs": [
    {
     "data": {
      "text/plain": [
       "Index(['RespondentID',\n",
       "       'Have you seen any of the 6 films in the Star Wars franchise?',\n",
       "       'Do you consider yourself to be a fan of the Star Wars film franchise?',\n",
       "       'Which of the following Star Wars films have you seen? Please select all that apply.',\n",
       "       'Unnamed: 4', 'Unnamed: 5', 'Unnamed: 6', 'Unnamed: 7', 'Unnamed: 8',\n",
       "       'Please rank the Star Wars films in order of preference with 1 being your favorite film in the franchise and 6 being your least favorite film.',\n",
       "       'Unnamed: 10', 'Unnamed: 11', 'Unnamed: 12', 'Unnamed: 13',\n",
       "       'Unnamed: 14',\n",
       "       'Please state whether you view the following characters favorably, unfavorably, or are unfamiliar with him/her.',\n",
       "       'Unnamed: 16', 'Unnamed: 17', 'Unnamed: 18', 'Unnamed: 19',\n",
       "       'Unnamed: 20', 'Unnamed: 21', 'Unnamed: 22', 'Unnamed: 23',\n",
       "       'Unnamed: 24', 'Unnamed: 25', 'Unnamed: 26', 'Unnamed: 27',\n",
       "       'Unnamed: 28', 'Which character shot first?',\n",
       "       'Are you familiar with the Expanded Universe?',\n",
       "       'Do you consider yourself to be a fan of the Expanded Universe?',\n",
       "       'Do you consider yourself to be a fan of the Star Trek franchise?',\n",
       "       'Gender', 'Age', 'Household Income', 'Education',\n",
       "       'Location (Census Region)'],\n",
       "      dtype='object')"
      ]
     },
     "execution_count": 125,
     "metadata": {},
     "output_type": "execute_result"
    }
   ],
   "source": [
    "star_wars.columns"
   ]
  },
  {
   "cell_type": "markdown",
   "metadata": {},
   "source": [
    "From the code above, we can see that several columns were created as a result of a multiple-choice question asked in the survey. These kinds of questions are very hard to store in CSV data, thus the answers were stored in several columns worth of data. However before we tackle that, we also notice that some of the simpler questions in the survey were answered with either yes or no. Converting the ‘yes’ and ‘no’ values into ‘True’ and ‘False’ values, known as Boolean values, will help our data be much easier to analyze later. The two columns we will convert to Boolean values are:\n",
    "\n",
    "- 'Have you seen any of the 6 films in the Star Wars franchise?'\n",
    "- 'Do you consider yourself to be a fan of the Star Wars film franchise?'\n",
    "\n",
    "To convert the values in these columns to Boolean format, we will use a mapping dictionary that specifies which Boolean to convert each value into. Then, we will apply the dictionary to the column and reassign the improved column to the dataset. \n",
    "\n",
    "### Converting Values to Boolean & Renaming Columns"
   ]
  },
  {
   "cell_type": "code",
   "execution_count": 126,
   "metadata": {},
   "outputs": [
    {
     "name": "stdout",
     "output_type": "stream",
     "text": [
      "Have you seen any of the 6 films in the Star Wars franchise?\n",
      "Yes    936\n",
      "No     250\n",
      "Name: count, dtype: int64\n",
      "\n",
      "\n",
      "Have you seen any of the 6 films in the Star Wars franchise?\n",
      "True     936\n",
      "False    250\n",
      "Name: count, dtype: int64\n"
     ]
    }
   ],
   "source": [
    "print(star_wars['Have you seen any of the 6 films in the Star Wars franchise?'].value_counts(dropna=False))\n",
    "print('\\n') # adds a new (empty) line after previous result\n",
    "\n",
    "yes_no = {\n",
    "    \"Yes\": True,\n",
    "    \"No\": False\n",
    "}\n",
    "\n",
    "star_wars['Have you seen any of the 6 films in the Star Wars franchise?'] = star_wars['Have you seen any of the 6 films in the Star Wars franchise?'].map(yes_no)\n",
    "\n",
    "print(star_wars['Have you seen any of the 6 films in the Star Wars franchise?'].value_counts(dropna=False))"
   ]
  },
  {
   "cell_type": "code",
   "execution_count": 127,
   "metadata": {},
   "outputs": [
    {
     "name": "stdout",
     "output_type": "stream",
     "text": [
      "Do you consider yourself to be a fan of the Star Wars film franchise?\n",
      "Yes    552\n",
      "NaN    350\n",
      "No     284\n",
      "Name: count, dtype: int64\n",
      "\n",
      "\n",
      "Do you consider yourself to be a fan of the Star Wars film franchise?\n",
      "True     552\n",
      "NaN      350\n",
      "False    284\n",
      "Name: count, dtype: int64\n"
     ]
    }
   ],
   "source": [
    "print(star_wars['Do you consider yourself to be a fan of the Star Wars film franchise?'].value_counts(dropna=False))\n",
    "print('\\n') # adds a new (empty) line after previous result\n",
    "\n",
    "star_wars['Do you consider yourself to be a fan of the Star Wars film franchise?'] = star_wars['Do you consider yourself to be a fan of the Star Wars film franchise?'].map(yes_no)\n",
    "\n",
    "print(star_wars['Do you consider yourself to be a fan of the Star Wars film franchise?'].value_counts(dropna=False))"
   ]
  },
  {
   "cell_type": "markdown",
   "metadata": {},
   "source": [
    "Now that we have accomplished converting the values from the Star Wars columns above to Boolean format, we will move on to do the same for the next set of multiple-choice answer columns. The columns follow this pattern:\n",
    "\n",
    "- \"Which of the following Star Wars films have you seen? Please select all that apply.\" — whether or not the respondent saw \"Star Wars: Episode I The Phantom Menace\"\n",
    "- \"Unnamed: 4\" — whether or not the respondent saw \"Star Wars: Episode II Attack of the Clones\"\n",
    "- \"Unnamed: 5\" — whether or not the respondent saw \"Star Wars: Episode III Revenge of the Sith\"\n",
    "- \"Unnamed: 6\" — whether or not the respondent saw \"Star Wars: Episode IV A New Hope\"\n",
    "- \"Unnamed: 7\" — whether or not the respondent saw \"Star Wars: Episode V The Empire Strikes Back\"\n",
    "- \"Unnamed: 8\" — whether or not the respondent saw \"Star Wars: Episode VI Return of the Jedi\"\n",
    "\n",
    "We will also rename each column as well, so they are easier to work with later."
   ]
  },
  {
   "cell_type": "code",
   "execution_count": 128,
   "metadata": {},
   "outputs": [
    {
     "name": "stdout",
     "output_type": "stream",
     "text": [
      "Which of the following Star Wars films have you seen? Please select all that apply.\n",
      "Star Wars: Episode I  The Phantom Menace    673\n",
      "NaN                                         513\n",
      "Name: count, dtype: int64\n"
     ]
    },
    {
     "data": {
      "text/plain": [
       "seen_1\n",
       "True     673\n",
       "False    513\n",
       "Name: count, dtype: int64"
      ]
     },
     "execution_count": 128,
     "metadata": {},
     "output_type": "execute_result"
    }
   ],
   "source": [
    "print(star_wars['Which of the following Star Wars films have you seen? Please select all that apply.'].value_counts(dropna=False))\n",
    "\n",
    "yes_no = {\n",
    "    \"Star Wars: Episode I  The Phantom Menace\": True,\n",
    "    np.nan: False\n",
    "}\n",
    "\n",
    "star_wars['Which of the following Star Wars films have you seen? Please select all that apply.'] = star_wars['Which of the following Star Wars films have you seen? Please select all that apply.'].map(yes_no)\n",
    "\n",
    "star_wars = star_wars.rename(columns={\n",
    "    'Which of the following Star Wars films have you seen? Please select all that apply.': 'seen_1'\n",
    "})\n",
    "\n",
    "star_wars['seen_1'].value_counts(dropna=False)"
   ]
  },
  {
   "cell_type": "code",
   "execution_count": 129,
   "metadata": {},
   "outputs": [
    {
     "name": "stdout",
     "output_type": "stream",
     "text": [
      "Unnamed: 4\n",
      "NaN                                            615\n",
      "Star Wars: Episode II  Attack of the Clones    571\n",
      "Name: count, dtype: int64\n"
     ]
    },
    {
     "data": {
      "text/plain": [
       "seen_2\n",
       "False    615\n",
       "True     571\n",
       "Name: count, dtype: int64"
      ]
     },
     "execution_count": 129,
     "metadata": {},
     "output_type": "execute_result"
    }
   ],
   "source": [
    "print(star_wars['Unnamed: 4'].value_counts(dropna=False))\n",
    "\n",
    "yes_no = {\n",
    "    \"Star Wars: Episode II  Attack of the Clones\": True,\n",
    "    np.nan: False\n",
    "}\n",
    "\n",
    "star_wars['Unnamed: 4'] = star_wars['Unnamed: 4'].map(yes_no)\n",
    "\n",
    "star_wars = star_wars.rename(columns={\n",
    "    \"Unnamed: 4\": \"seen_2\"\n",
    "})\n",
    "\n",
    "star_wars['seen_2'].value_counts(dropna=False)"
   ]
  },
  {
   "cell_type": "code",
   "execution_count": 130,
   "metadata": {},
   "outputs": [
    {
     "name": "stdout",
     "output_type": "stream",
     "text": [
      "Unnamed: 5\n",
      "NaN                                            636\n",
      "Star Wars: Episode III  Revenge of the Sith    550\n",
      "Name: count, dtype: int64\n"
     ]
    },
    {
     "data": {
      "text/plain": [
       "seen_3\n",
       "False    636\n",
       "True     550\n",
       "Name: count, dtype: int64"
      ]
     },
     "execution_count": 130,
     "metadata": {},
     "output_type": "execute_result"
    }
   ],
   "source": [
    "print(star_wars['Unnamed: 5'].value_counts(dropna=False))\n",
    "\n",
    "yes_no = {\n",
    "    \"Star Wars: Episode III  Revenge of the Sith\": True,\n",
    "    np.nan: False\n",
    "}\n",
    "\n",
    "star_wars['Unnamed: 5'] = star_wars['Unnamed: 5'].map(yes_no)\n",
    "\n",
    "star_wars = star_wars.rename(columns={\n",
    "    \"Unnamed: 5\": \"seen_3\"\n",
    "})\n",
    "\n",
    "star_wars['seen_3'].value_counts(dropna=False)"
   ]
  },
  {
   "cell_type": "code",
   "execution_count": 131,
   "metadata": {},
   "outputs": [
    {
     "name": "stdout",
     "output_type": "stream",
     "text": [
      "Unnamed: 6\n",
      "Star Wars: Episode IV  A New Hope    607\n",
      "NaN                                  579\n",
      "Name: count, dtype: int64\n"
     ]
    },
    {
     "data": {
      "text/plain": [
       "seen_4\n",
       "True     607\n",
       "False    579\n",
       "Name: count, dtype: int64"
      ]
     },
     "execution_count": 131,
     "metadata": {},
     "output_type": "execute_result"
    }
   ],
   "source": [
    "print(star_wars['Unnamed: 6'].value_counts(dropna=False))\n",
    "\n",
    "yes_no = {\n",
    "    \"Star Wars: Episode IV  A New Hope\": True,\n",
    "    np.nan: False\n",
    "}\n",
    "\n",
    "star_wars['Unnamed: 6'] = star_wars['Unnamed: 6'].map(yes_no)\n",
    "\n",
    "star_wars = star_wars.rename(columns={\n",
    "    \"Unnamed: 6\": \"seen_4\"\n",
    "})\n",
    "\n",
    "star_wars['seen_4'].value_counts(dropna=False)"
   ]
  },
  {
   "cell_type": "code",
   "execution_count": 132,
   "metadata": {},
   "outputs": [
    {
     "name": "stdout",
     "output_type": "stream",
     "text": [
      "Unnamed: 7\n",
      "Star Wars: Episode V The Empire Strikes Back    758\n",
      "NaN                                             428\n",
      "Name: count, dtype: int64\n"
     ]
    },
    {
     "data": {
      "text/plain": [
       "seen_5\n",
       "True     758\n",
       "False    428\n",
       "Name: count, dtype: int64"
      ]
     },
     "execution_count": 132,
     "metadata": {},
     "output_type": "execute_result"
    }
   ],
   "source": [
    "print(star_wars['Unnamed: 7'].value_counts(dropna=False))\n",
    "\n",
    "yes_no = {\n",
    "    \"Star Wars: Episode V The Empire Strikes Back\": True,\n",
    "    np.nan: False\n",
    "}\n",
    "\n",
    "star_wars['Unnamed: 7'] = star_wars['Unnamed: 7'].map(yes_no)\n",
    "\n",
    "star_wars = star_wars.rename(columns={\n",
    "    \"Unnamed: 7\": \"seen_5\"\n",
    "})\n",
    "\n",
    "star_wars['seen_5'].value_counts(dropna=False)"
   ]
  },
  {
   "cell_type": "code",
   "execution_count": 133,
   "metadata": {},
   "outputs": [
    {
     "name": "stdout",
     "output_type": "stream",
     "text": [
      "Unnamed: 8\n",
      "Star Wars: Episode VI Return of the Jedi    738\n",
      "NaN                                         448\n",
      "Name: count, dtype: int64\n"
     ]
    },
    {
     "data": {
      "text/plain": [
       "seen_6\n",
       "True     738\n",
       "False    448\n",
       "Name: count, dtype: int64"
      ]
     },
     "execution_count": 133,
     "metadata": {},
     "output_type": "execute_result"
    }
   ],
   "source": [
    "print(star_wars['Unnamed: 8'].value_counts(dropna=False))\n",
    "\n",
    "yes_no = {\n",
    "    \"Star Wars: Episode VI Return of the Jedi\": True,\n",
    "    np.nan: False\n",
    "}\n",
    "\n",
    "star_wars['Unnamed: 8'] = star_wars['Unnamed: 8'].map(yes_no)\n",
    "\n",
    "star_wars = star_wars.rename(columns={\n",
    "    \"Unnamed: 8\": \"seen_6\"\n",
    "})\n",
    "\n",
    "star_wars['seen_6'].value_counts(dropna=False)"
   ]
  },
  {
   "cell_type": "markdown",
   "metadata": {},
   "source": [
    "The next set of columns asks the respondent to rank the Star Wars movies, 1 being the movie they like the best and 6 being the movie they like the least. Since the values in these columns contain the number the respondent gave to each film, they don’t require much cleaning. Instead, we are going to simply rename each column, like we did with the previous columns. This will help there to be a form of constancy amongst the column names. The columns follow this pattern:\n",
    "\n",
    "- \"Please rank the Star Wars films in order of preference with 1 being your favorite film in the franchise and 6 being your least favorite film.\" - How much the respondent liked \"Star Wars: Episode I The Phantom Menace\"\n",
    "- \"Unnamed: 10\" — How much the respondent liked \"Star Wars: Episode II Attack of the Clones\"\n",
    "- \"Unnamed: 11\" — How much the respondent liked \"Star Wars: Episode III Revenge of the Sith\"\n",
    "- \"Unnamed: 12\" — How much the respondent liked \"Star Wars: Episode IV A New Hope\"\n",
    "- \"Unnamed: 13\" — How much the respondent liked \"Star Wars: Episode V The Empire Strikes Back\"\n",
    "- \"Unnamed: 14\" — How much the respondent liked \"Star Wars: Episode VI Return of the Jedi\""
   ]
  },
  {
   "cell_type": "code",
   "execution_count": 134,
   "metadata": {},
   "outputs": [
    {
     "name": "stdout",
     "output_type": "stream",
     "text": [
      "Index(['ranking_1', 'ranking_2', 'ranking_3', 'ranking_4', 'ranking_5',\n",
      "       'ranking_6'],\n",
      "      dtype='object')\n"
     ]
    }
   ],
   "source": [
    "star_wars[star_wars.columns[9:15]] = star_wars[star_wars.columns[9:15]].astype(float)\n",
    "\n",
    "star_wars = star_wars.rename(columns={\n",
    "    \"Please rank the Star Wars films in order of preference with 1 being your favorite film in the franchise and 6 being your least favorite film.\": \"ranking_1\"\n",
    "})\n",
    "\n",
    "star_wars = star_wars.rename(columns={\n",
    "    \"Unnamed: 10\": \"ranking_2\"\n",
    "})\n",
    "\n",
    "star_wars = star_wars.rename(columns={\n",
    "    \"Unnamed: 11\": \"ranking_3\"\n",
    "})\n",
    "\n",
    "star_wars = star_wars.rename(columns={\n",
    "    \"Unnamed: 12\": \"ranking_4\"\n",
    "})\n",
    "\n",
    "star_wars = star_wars.rename(columns={\n",
    "    \"Unnamed: 13\": \"ranking_5\"\n",
    "})\n",
    "\n",
    "star_wars = star_wars.rename(columns={\n",
    "    \"Unnamed: 14\": \"ranking_6\"\n",
    "})\n",
    "\n",
    "print(star_wars.columns[9:15])"
   ]
  },
  {
   "cell_type": "markdown",
   "metadata": {},
   "source": [
    "### Bar Graphs\n",
    "\n",
    "As you can see from the code above we have successfully renamed and converted multiple columns into the Boolean format. Now as we approach our analysis, the Boolean values will be very beneficial because the “True” and “False” values translate to 1 and 0 in the pandas program. In other words, we can generate bar graphs to visualize Boolean columns. Bar graphs will show us how many 1s (“True” values) and 0s (“False” values) there are in a Boolean column. \n",
    "\n",
    "In this next section of our project, we will be generating many bar graphs to examine different aspects of our data. First, let’s start by examining which one of the 6 movies is ranked the highest."
   ]
  },
  {
   "cell_type": "code",
   "execution_count": 135,
   "metadata": {},
   "outputs": [
    {
     "data": {
      "image/png": "[encoded data removed]",
      "text/plain": [
       "<Figure size 640x480 with 1 Axes>"
      ]
     },
     "metadata": {},
     "output_type": "display_data"
    }
   ],
   "source": [
    "# Comparing the overall rankings of the 6 films\n",
    "\n",
    "rankings = star_wars.iloc[:, 9:15]\n",
    "rankings = rankings.apply(lambda x: x.mean())\n",
    "\n",
    "import matplotlib.style as style\n",
    "import matplotlib.pyplot as plt\n",
    "%matplotlib inline\n",
    "\n",
    "\n",
    "rankings.plot.bar()\n",
    "plt.title(\"Overall Movie Rankings\")\n",
    "plt.xlabel(\"Movies\")\n",
    "plt.ylabel(\"Average Ranking\")\n",
    "plt.xticks(rotation=45)\n",
    "plt.show()"
   ]
  },
  {
   "cell_type": "markdown",
   "metadata": {},
   "source": [
    "The results above show that “ranking_3” is closest to 4, while “ranking_5” is closest to 1. It is important to note that a ranking closer to 1 is preferred. From this graph, we can conclude that “ranking_5” or “Star Wars: Episode V The Empire Strikes Back” received the highest ranking in the survey. \n",
    "\n",
    "With the highest-ranked movie possibly identified, let’s look deeper into our data to verify if this is true. In the code below, we will generate a bar graph showing the number of views each film has. If  “Star Wars: Episode V The Empire Strikes Back” is indeed voted as America’s favorite, it will also have the most views."
   ]
  },
  {
   "cell_type": "code",
   "execution_count": 136,
   "metadata": {},
   "outputs": [
    {
     "data": {
      "image/png": "[encoded data removed]",
      "text/plain": [
       "<Figure size 640x480 with 1 Axes>"
      ]
     },
     "metadata": {},
     "output_type": "display_data"
    }
   ],
   "source": [
    "# Comparing the number of views each movie has\n",
    "\n",
    "seen = star_wars.iloc[:, 3:9]\n",
    "seen_most = seen.apply(lambda x: x.sum())\n",
    "\n",
    "seen_most.plot.bar()\n",
    "plt.title(\"Overall Movie Views\")\n",
    "plt.xlabel(\"Movies\")\n",
    "plt.ylabel(\"Average Views\")\n",
    "plt.xticks(rotation=45)\n",
    "plt.show()"
   ]
  },
  {
   "cell_type": "markdown",
   "metadata": {},
   "source": [
    "As expected, the results above confirm “Star Wars: Episode V The Empire Strikes Back” as #1 with the most views. Now that we have established America’s favorite out of the films in this survey, let’s go on to examine the rankings and views of the movies when the dataset is filtered in different ways. For example, how are the movies ranked by all the male respondents? In the code below, we will generate several bar graphs containing the rankings and most-seen movies through various dataset filters, starting with male vs. female respondents.\n",
    "\n",
    "### Male Vs. Female"
   ]
  },
  {
   "cell_type": "code",
   "execution_count": 137,
   "metadata": {},
   "outputs": [],
   "source": [
    "# Filtering original dataset\n",
    "males = star_wars[star_wars[\"Gender\"] == \"Male\"]\n",
    "females = star_wars[star_wars[\"Gender\"] == \"Female\"]"
   ]
  },
  {
   "cell_type": "code",
   "execution_count": 138,
   "metadata": {},
   "outputs": [
    {
     "data": {
      "image/png": "[encoded data removed]",
      "text/plain": [
       "<Figure size 640x480 with 1 Axes>"
      ]
     },
     "metadata": {},
     "output_type": "display_data"
    }
   ],
   "source": [
    "X_rank = ['ranking_1','ranking_2','ranking_3','ranking_4','ranking_5','ranking_6'] \n",
    "rankings_m = males.iloc[:, 9:15]\n",
    "rankings_m = rankings_m.apply(lambda x: x.mean())\n",
    "rankings_f = females.iloc[:, 9:15]\n",
    "rankings_f = rankings_f.apply(lambda x: x.mean())\n",
    "  \n",
    "X_axis = np.arange(len(X_rank)) \n",
    "  \n",
    "plt.bar(X_axis - 0.2, rankings_m, 0.4, label = 'Males', color='blue') \n",
    "plt.bar(X_axis + 0.2, rankings_f, 0.4, label = 'Females', color='pink') \n",
    "  \n",
    "plt.xticks(X_axis, X_rank) \n",
    "plt.xlabel(\"Movies\") \n",
    "plt.ylabel(\"Average Ranking\") \n",
    "plt.title(\"Male Vs. Female Rankings\") \n",
    "plt.xticks(rotation=45)\n",
    "plt.legend() \n",
    "plt.show()"
   ]
  },
  {
   "cell_type": "code",
   "execution_count": 139,
   "metadata": {},
   "outputs": [
    {
     "data": {
      "image/png": "[encoded data removed]",
      "text/plain": [
       "<Figure size 640x480 with 1 Axes>"
      ]
     },
     "metadata": {},
     "output_type": "display_data"
    }
   ],
   "source": [
    "X_view = ['seen_1','seen_2','seen_3','seen_4','seen_5','seen_6'] \n",
    "views_m = males.iloc[:, 3:9]\n",
    "views_m = views_m.apply(lambda x: x.mean())\n",
    "views_f = females.iloc[:, 3:9]\n",
    "views_f = views_f.apply(lambda x: x.mean())\n",
    "  \n",
    "X_axis = np.arange(len(X_view)) \n",
    "  \n",
    "plt.bar(X_axis - 0.2, views_m, 0.4, label = 'Males', color='blue') \n",
    "plt.bar(X_axis + 0.2, views_f, 0.4, label = 'Females', color='pink') \n",
    "  \n",
    "plt.xticks(X_axis, X_view) \n",
    "plt.xlabel(\"Movies\") \n",
    "plt.ylabel(\"Average Views\") \n",
    "plt.title(\"Male Vs. Female Views\") \n",
    "plt.xticks(rotation=45)\n",
    "plt.legend() \n",
    "plt.show()"
   ]
  },
  {
   "cell_type": "markdown",
   "metadata": {},
   "source": [
    "From the two graphs above, we can see that both the male and female respondents generally ranked the films in a similar pattern. However, the females ranked \"The Phantom Menace\" (\"ranking_1\") much higher than the males did, while the males ranked \"A New Hope\" (\"ranking_4\") much higher than the females did. Also, the male respondents ranked \"Star Wars: Episode V The Empire Strikes Back\" slightly higher than the female respondents did. In regards to the \"Male Vs. Female Views\" graph, the main thing we noticed was that the male respondents view all the movies significantly more than the females do.\n",
    "\n",
    "Now that we have studied the male vs. female respondent data, let's move on to examine respondents who are fans of Star Wars, versus those who are not.\n",
    "\n",
    "### Star Wars Fans Vs. Star Wars Nonfans"
   ]
  },
  {
   "cell_type": "code",
   "execution_count": 140,
   "metadata": {},
   "outputs": [],
   "source": [
    "# Filtering original dataset\n",
    "sw_fan = star_wars[star_wars[\"Do you consider yourself to be a fan of the Star Wars film franchise?\"] == True]\n",
    "sw_nonfan = star_wars[star_wars[\"Do you consider yourself to be a fan of the Star Wars film franchise?\"] == False]"
   ]
  },
  {
   "cell_type": "code",
   "execution_count": 141,
   "metadata": {},
   "outputs": [
    {
     "data": {
      "image/png": "[encoded data removed]",
      "text/plain": [
       "<Figure size 640x480 with 1 Axes>"
      ]
     },
     "metadata": {},
     "output_type": "display_data"
    }
   ],
   "source": [
    "X_rank = ['ranking_1','ranking_2','ranking_3','ranking_4','ranking_5','ranking_6'] \n",
    "rank_sw_fan = sw_fan.iloc[:, 9:15]\n",
    "rank_sw_fan = rank_sw_fan.apply(lambda x: x.mean())\n",
    "rank_sw_nonfan = sw_nonfan.iloc[:, 9:15]\n",
    "rank_sw_nonfan = rank_sw_nonfan.apply(lambda x: x.mean())\n",
    "  \n",
    "X_axis = np.arange(len(X_rank)) \n",
    "  \n",
    "plt.bar(X_axis - 0.2, rank_sw_fan, 0.4, label = 'Star Wars Fans', color='green') \n",
    "plt.bar(X_axis + 0.2, rank_sw_nonfan, 0.4, label = 'Star Wars Nonfans', color='red') \n",
    "  \n",
    "plt.xticks(X_axis, X_rank) \n",
    "plt.xlabel(\"Movies\") \n",
    "plt.ylabel(\"Average Ranking\") \n",
    "plt.title(\"Star Wars Fans Vs. Star Wars Nonfans Rankings\") \n",
    "plt.xticks(rotation=45)\n",
    "plt.legend()\n",
    "plt.show()"
   ]
  },
  {
   "cell_type": "code",
   "execution_count": 142,
   "metadata": {},
   "outputs": [
    {
     "data": {
      "image/png": "[encoded data removed]",
      "text/plain": [
       "<Figure size 640x480 with 1 Axes>"
      ]
     },
     "metadata": {},
     "output_type": "display_data"
    }
   ],
   "source": [
    "X_view = ['seen_1','seen_2','seen_3','seen_4','seen_5','seen_6'] \n",
    "views_sw_fan = sw_fan.iloc[:, 3:9]\n",
    "views_sw_fan = views_sw_fan.apply(lambda x: x.mean())\n",
    "views_sw_nonfan = sw_nonfan.iloc[:, 3:9]\n",
    "views_sw_nonfan = views_sw_nonfan.apply(lambda x: x.mean())\n",
    "  \n",
    "X_axis = np.arange(len(X_view)) \n",
    "  \n",
    "plt.bar(X_axis - 0.2, views_sw_fan, 0.4, label = 'Star Wars Fans', color='green') \n",
    "plt.bar(X_axis + 0.2, views_sw_nonfan, 0.4, label = 'Star Wars Nonfans', color='red') \n",
    "  \n",
    "plt.xticks(X_axis, X_view) \n",
    "plt.xlabel(\"Movies\") \n",
    "plt.ylabel(\"Average Views\") \n",
    "plt.title(\"Star Wars Fans Vs. Star Wars Nonfans Views\") \n",
    "plt.xticks(rotation=45)\n",
    "plt.legend()\n",
    "plt.show()"
   ]
  },
  {
   "cell_type": "markdown",
   "metadata": {},
   "source": [
    "In studying the two graphs above, we observe that Star Wars fans rank films 1-3 much lower than 4-6. Star Wars nonfans, however, rank 1, 5, and 6, lower than 2-4. In the \"Views\" graph, we see that nonfans watch the films much less than the fans. However, the nonfans do watch films 5 & 6 more than 1-4. As for the official fans, they watch films 1, 5, and 6 most. Once again both of these groups identify \"ranking_5\" as the best out of the six.\n",
    "\n",
    "For our last set of bar graphs, we are going to compare respondents who are fans of the Star Trek franchise, versus those who are not.\n",
    "\n",
    "### Star Trek Fans Vs. Star Trek Nonfans"
   ]
  },
  {
   "cell_type": "code",
   "execution_count": 143,
   "metadata": {},
   "outputs": [],
   "source": [
    "st_fan = star_wars[star_wars[\"Do you consider yourself to be a fan of the Star Trek franchise?\"] == \"Yes\"]\n",
    "st_nonfan = star_wars[star_wars[\"Do you consider yourself to be a fan of the Star Trek franchise?\"] == \"No\"]"
   ]
  },
  {
   "cell_type": "code",
   "execution_count": 144,
   "metadata": {},
   "outputs": [
    {
     "data": {
      "image/png": "[encoded data removed]",
      "text/plain": [
       "<Figure size 640x480 with 1 Axes>"
      ]
     },
     "metadata": {},
     "output_type": "display_data"
    }
   ],
   "source": [
    "X_rank = ['ranking_1','ranking_2','ranking_3','ranking_4','ranking_5','ranking_6'] \n",
    "rank_st_fan = st_fan.iloc[:, 9:15]\n",
    "rank_st_fan = rank_st_fan.apply(lambda x: x.mean())\n",
    "rank_st_nonfan = st_nonfan.iloc[:, 9:15]\n",
    "rank_st_nonfan = rank_st_nonfan.apply(lambda x: x.mean())\n",
    "  \n",
    "X_axis = np.arange(len(X_rank)) \n",
    "  \n",
    "plt.bar(X_axis - 0.2, rank_st_fan, 0.4, label = 'Star Trek Fans', color='gold') \n",
    "plt.bar(X_axis + 0.2, rank_st_nonfan, 0.4, label = 'Star Trek Nonfans', color='purple') \n",
    "\n",
    "plt.xticks(X_axis, X_rank) \n",
    "plt.xlabel(\"Movies\") \n",
    "plt.ylabel(\"Average Ranking\") \n",
    "plt.title(\"Star Trek Fans Vs. Star Trek Nonfans Rankings\") \n",
    "plt.xticks(rotation=45)\n",
    "plt.legend()\n",
    "plt.show()"
   ]
  },
  {
   "cell_type": "code",
   "execution_count": 145,
   "metadata": {},
   "outputs": [
    {
     "data": {
      "image/png": "[encoded data removed]",
      "text/plain": [
       "<Figure size 640x480 with 1 Axes>"
      ]
     },
     "metadata": {},
     "output_type": "display_data"
    }
   ],
   "source": [
    "X_view = ['seen_1','seen_2','seen_3','seen_4', 'seen_5', 'seen_6'] \n",
    "views_st_fan = st_fan.iloc[:, 3:9]\n",
    "views_st_fan = views_st_fan.apply(lambda x: x.mean())\n",
    "views_st_nonfan = st_nonfan.iloc[:, 3:9]\n",
    "views_st_nonfan = views_st_nonfan.apply(lambda x: x.mean())\n",
    "  \n",
    "X_axis = np.arange(len(X_view)) \n",
    "  \n",
    "plt.bar(X_axis - 0.2, views_st_fan, 0.4, label = 'Star Trek Fans', color='gold') \n",
    "plt.bar(X_axis + 0.2, views_st_nonfan, 0.4, label = 'Star Trek Nonfans', color='purple') \n",
    "  \n",
    "plt.xticks(X_axis, X_view) \n",
    "plt.xlabel(\"Movies\") \n",
    "plt.ylabel(\"Average Views\") \n",
    "plt.title(\"Star Trek Fans Vs. Star Trek Nonfans Views\") \n",
    "plt.xticks(rotation=45)\n",
    "plt.legend()\n",
    "plt.show()"
   ]
  },
  {
   "cell_type": "markdown",
   "metadata": {},
   "source": [
    "As we observe the results above, one thing we notice right away is that the Star Trek fans rank 4-6 higher than the nonfans, while the nonfans rank 1-3 higher than the fans. In our previous comparisons, we observed a significant difference in the number of views. However, in this case, the view count for Star Trek fans is so dramatically larger that it immediately captures our attention. Although the Star Trek nonfans seem less than enthusiastic about the six films, both groups once again agree that the 5th is the best."
   ]
  },
  {
   "cell_type": "markdown",
   "metadata": {},
   "source": [
    "### Conclusion\n",
    "\n",
    "Throughout this project, we have demonstrated several data cleaning and analysis techniques. During our visualization process, we found that \"Star Wars: Episode V The Empire Strikes Back\" was unanimously the most popular film out of the group covered in the survey. Whether that's due to the film's structure or its plot twists in the Star Wars saga, films that follow this survey face a significant challenge to live up to this high standard. In the future, as we analyze more survey datasets, it is crucial to recognize the importance of data cleaning and comparison. Comparing different aspects of one’s dataset, after a thorough cleaning, is essential to creating an accurate analysis of any large dataset."
   ]
  }
 ],
 "metadata": {
  "kernelspec": {
   "display_name": "Python 3 (ipykernel)",
   "language": "python",
   "name": "python3"
  },
  "language_info": {
   "codemirror_mode": {
    "name": "ipython",
    "version": 3
   },
   "file_extension": ".py",
   "mimetype": "text/x-python",
   "name": "python",
   "nbconvert_exporter": "python",
   "pygments_lexer": "ipython3",
   "version": "3.12.4"
  }
 },
 "nbformat": 4,
 "nbformat_minor": 4
}
